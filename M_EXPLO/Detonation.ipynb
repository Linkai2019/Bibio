# Classic detonation theory 
- ref: Note d'information QUELQUES CONSIDERATION RELATIVES A LA THEORIE CLASSIQUE DE LA DETONATION APPLICATION A L'INTERACTION-REFRIGERANT par G. BERTHOUD

## Some important concepts
- Reaction zone for detonation
- Thermodynamic for detonatin 
> Conservation of Hugoniot for shock wave, using the conservation of mass, momentum and energy to the wave front interface.
we then get $\rho$
